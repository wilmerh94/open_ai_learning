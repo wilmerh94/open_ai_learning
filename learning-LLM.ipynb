{
 "cells": [
  {
   "cell_type": "code",
   "execution_count": null,
   "metadata": {},
   "outputs": [],
   "source": [
    "#Hello! It seems like you want to import the Streamlit library in Python. Streamlit is a powerful open-source framework used for building web applications with interactive data visualizations and machine learning models. To import Streamlit, you'll need to ensure that you have it installed in your Python environment.\n",
    "#Once you have Streamlit installed, you can import it into your Python script using the import statement,\n",
    "\n",
    "import streamlit as st\n",
    "\n",
    "\n",
    "from langchain.llms import OpenAI\n",
    "\n",
    "#Function to return the response\n",
    "def load_answer(question):\n",
    "    llm = OpenAI(model_name=\"text-davinci-003\",temperature=0)\n",
    "    answer=llm(question)\n",
    "    return answer\n",
    "\n",
    "\n",
    "#App UI starts here\n",
    "st.set_page_config(page_title=\"LangChain Demo\", page_icon=\":robot:\")\n",
    "st.header(\"LangChain Demo\")\n",
    "\n",
    "#Gets the user input\n",
    "def get_text():\n",
    "    input_text = st.text_input(\"You: \", key=\"input\")\n",
    "    return input_text\n",
    "\n",
    "\n",
    "user_input=get_text()\n",
    "response = load_answer(user_input)\n",
    "\n",
    "submit = st.button('Generate')  \n",
    "\n",
    "#If generate button is clicked\n",
    "if submit:\n",
    "\n",
    "    st.subheader(\"Answer:\")\n",
    "\n",
    "    st.write(response)\n",
    "\n"
   ]
  },
  {
   "cell_type": "code",
   "execution_count": null,
   "metadata": {},
   "outputs": [],
   "source": [
    "\n",
    "git add learning-LLM.ipynb\n",
    "git commit -m \"Add application file\"\n",
    "git push\n"
   ]
  }
 ],
 "metadata": {
  "kernelspec": {
   "display_name": "data-env",
   "language": "python",
   "name": "python3"
  },
  "language_info": {
   "codemirror_mode": {
    "name": "ipython",
    "version": 3
   },
   "file_extension": ".py",
   "mimetype": "text/x-python",
   "name": "python",
   "nbconvert_exporter": "python",
   "pygments_lexer": "ipython3",
   "version": "3.10.11"
  },
  "orig_nbformat": 4
 },
 "nbformat": 4,
 "nbformat_minor": 2
}
